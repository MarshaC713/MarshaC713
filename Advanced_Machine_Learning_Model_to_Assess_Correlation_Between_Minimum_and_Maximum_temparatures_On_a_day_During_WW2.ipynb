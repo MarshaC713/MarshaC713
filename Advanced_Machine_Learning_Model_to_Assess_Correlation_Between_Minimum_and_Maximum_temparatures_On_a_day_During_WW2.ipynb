{
  "nbformat": 4,
  "nbformat_minor": 0,
  "metadata": {
    "colab": {
      "provenance": [],
      "authorship_tag": "ABX9TyM2n09mDbMsTxporlTMgXVx",
      "include_colab_link": true
    },
    "kernelspec": {
      "name": "python3",
      "display_name": "Python 3"
    },
    "language_info": {
      "name": "python"
    }
  },
  "cells": [
    {
      "cell_type": "markdown",
      "metadata": {
        "id": "view-in-github",
        "colab_type": "text"
      },
      "source": [
        "<a href=\"https://colab.research.google.com/github/MarshaC713/MarshaC713/blob/main/Advanced_Machine_Learning_Model_to_Assess_Correlation_Between_Minimum_and_Maximum_temparatures_On_a_day_During_WW2.ipynb\" target=\"_parent\"><img src=\"https://colab.research.google.com/assets/colab-badge.svg\" alt=\"Open In Colab\"/></a>"
      ]
    },
    {
      "cell_type": "markdown",
      "source": [
        "# Advanced Machine Learning Model Using Linear Regression:\n",
        "## By Marsha Castello\n",
        "\n",
        "### Introduction\n",
        "In the following Advanced Machine Learning model I will look at the correlation between minimum and maximum temparatures on a single given day,using the statistical machine learning method Linear regression, and programming language Python. I will test whether the model can be fed a set of data, identify a corelation in that dat and use that corelation to predict future data.  I will then test this against actual data to measure the accuracy of the model.   \n",
        "\n",
        "### The Data\n",
        "This dataset is pulled from Kaggle and depicts the weather on a given day in World War II. I will  investigate to see if there is a relationship between the minimum and maximum temperature on that given day, using Linear Regression to predict future temparatures. \n",
        "\n",
        "Kaggle is a Google owned company that is a great resource for the machine learning and data science community. It provides a place for people to share datasets, work together to solve problems, and to therefore learn about data science and machine learning and for organisations to host competitions.\n",
        "\n",
        "\n",
        "### Method\n",
        "In order to do Linear Regression in Python, I will be using the following methods:\n",
        "\n",
        "\n",
        "1.   Label the dataset I want to use (I will label this X) and the feature I want to predict (I will label this y).\n",
        "2.   Split data into training set and testing set \n",
        "3.   Fit the model with X_train and y_train.\n",
        "4.   Make a prediction of y_test, and call this prediction y_prediction, using the model fitted in step 3 and X_test.\n",
        "5.   Compare y_test to y_prediction to assess how well model works.\n",
        "\n",
        "## Linear Regression\n",
        "Linear Regression in Machine Learning is a statistical method that is used for predictive analysis. The linear Regression algorithm shows a linear relationship between a dependent **(y)** and one or more independent **(x)** variables, which gives it the name called Linear Regression.\n",
        "The Linear regression model provides a sloped straight line representing the relationship between the variables.\n",
        "\n",
        "In this case the dependent variable, Y, is the minimum temparature, which we are trying to predict, and the independent variable, X, is the maximum temperature (predictor variable),  which we are using to predict the minimum temparature.\n",
        "\n",
        "\n",
        "Mathematically, we can represent a linear regression as :\n",
        "**y= mx+c**\n",
        "\n",
        "where:\n",
        "\n",
        "*   y = Dependent Variable (Target variable)\n",
        "*   x = Independent Variable (predictor variable)\n",
        "*   m = Linear regression coefficient (scale factor to each input value)\n",
        "*   c = intercept of the line (gives an additional degree of freedom)\n",
        "\n",
        "When working with linear regression, our main goal is to find the best fit line which means the error between predicted values and actual values should be minimized, the best fit line will have the least error.\n",
        "The different values for weights or the coefficient of lines (m, c) gives a different line of regression, so we need to calculate the best values for m and c to find the best fit line, so to calculate this we use the cost function.\n",
        "\n",
        "COST FUNCTION optimizes the regression coefficients or weights. It measures how a linear regression model is performing.\n",
        "For Linear Regression, we use the Mean Squared Error (MSE) cost function, which is the average squared error that occurred between the predicted values and actual values.\n",
        "\n",
        "\n",
        "\n",
        "\n",
        "\n",
        "\n",
        "\n"
      ],
      "metadata": {
        "id": "WvZV8A70EV9N"
      }
    },
    {
      "cell_type": "code",
      "execution_count": null,
      "metadata": {
        "colab": {
          "base_uri": "https://localhost:8080/",
          "height": 488
        },
        "id": "jtCarsd4Dv1d",
        "outputId": "8b24f993-ba48-46d6-d186-2c54df482573"
      },
      "outputs": [
        {
          "output_type": "execute_result",
          "data": {
            "text/plain": [
              "         STA        Date Precip  WindGustSpd    MaxTemp    MinTemp   MeanTemp  \\\n",
              "0      10001  01/07/1942  1.016          NaN  25.555556  22.222222  23.888889   \n",
              "1      10001  02/07/1942      0          NaN  28.888889  21.666667  25.555556   \n",
              "2      10001  03/07/1942   2.54          NaN  26.111111  22.222222  24.444444   \n",
              "3      10001  04/07/1942   2.54          NaN  26.666667  22.222222  24.444444   \n",
              "4      10001  05/07/1942      0          NaN  26.666667  21.666667  24.444444   \n",
              "...      ...         ...    ...          ...        ...        ...        ...   \n",
              "32547  11902  11/03/1945      0          NaN  33.888889  15.555556  24.444444   \n",
              "32548  11902  12/03/1945      0          NaN  33.333333  16.666667  25.000000   \n",
              "32549  11902  13/03/1945      0          NaN  33.333333  18.333333  25.555556   \n",
              "32550  11902  14/03/1945      0          NaN  33.333333  19.444444  26.666667   \n",
              "32551  11902  15/03/1945      0          NaN  33.888889   1.000000        NaN   \n",
              "\n",
              "       Snowfall PoorWeather    YR  ...  FB  FTI ITH  PGT  TSHDSBRSGF  SD3  \\\n",
              "0           0.0         NaN  42.0  ... NaN  NaN NaN  NaN         NaN  NaN   \n",
              "1           0.0         NaN  42.0  ... NaN  NaN NaN  NaN         NaN  NaN   \n",
              "2           0.0         NaN  42.0  ... NaN  NaN NaN  NaN         NaN  NaN   \n",
              "3           0.0         NaN  42.0  ... NaN  NaN NaN  NaN         NaN  NaN   \n",
              "4           0.0         NaN  42.0  ... NaN  NaN NaN  NaN         NaN  NaN   \n",
              "...         ...         ...   ...  ...  ..  ...  ..  ...         ...  ...   \n",
              "32547       0.0         NaN  45.0  ... NaN  NaN NaN  NaN         NaN  NaN   \n",
              "32548       0.0         NaN  45.0  ... NaN  NaN NaN  NaN         NaN  NaN   \n",
              "32549       0.0         NaN  45.0  ... NaN  NaN NaN  NaN         NaN  NaN   \n",
              "32550       0.0         NaN  45.0  ... NaN  NaN NaN  NaN         NaN  NaN   \n",
              "32551       NaN         NaN   NaN  ... NaN  NaN NaN  NaN         NaN  NaN   \n",
              "\n",
              "       RHX  RHN  RVG  WTE  \n",
              "0      NaN  NaN  NaN  NaN  \n",
              "1      NaN  NaN  NaN  NaN  \n",
              "2      NaN  NaN  NaN  NaN  \n",
              "3      NaN  NaN  NaN  NaN  \n",
              "4      NaN  NaN  NaN  NaN  \n",
              "...    ...  ...  ...  ...  \n",
              "32547  NaN  NaN  NaN  NaN  \n",
              "32548  NaN  NaN  NaN  NaN  \n",
              "32549  NaN  NaN  NaN  NaN  \n",
              "32550  NaN  NaN  NaN  NaN  \n",
              "32551  NaN  NaN  NaN  NaN  \n",
              "\n",
              "[32552 rows x 31 columns]"
            ],
            "text/html": [
              "\n",
              "  <div id=\"df-70cd0622-f30f-402d-8e61-2faefbbdc0d0\">\n",
              "    <div class=\"colab-df-container\">\n",
              "      <div>\n",
              "<style scoped>\n",
              "    .dataframe tbody tr th:only-of-type {\n",
              "        vertical-align: middle;\n",
              "    }\n",
              "\n",
              "    .dataframe tbody tr th {\n",
              "        vertical-align: top;\n",
              "    }\n",
              "\n",
              "    .dataframe thead th {\n",
              "        text-align: right;\n",
              "    }\n",
              "</style>\n",
              "<table border=\"1\" class=\"dataframe\">\n",
              "  <thead>\n",
              "    <tr style=\"text-align: right;\">\n",
              "      <th></th>\n",
              "      <th>STA</th>\n",
              "      <th>Date</th>\n",
              "      <th>Precip</th>\n",
              "      <th>WindGustSpd</th>\n",
              "      <th>MaxTemp</th>\n",
              "      <th>MinTemp</th>\n",
              "      <th>MeanTemp</th>\n",
              "      <th>Snowfall</th>\n",
              "      <th>PoorWeather</th>\n",
              "      <th>YR</th>\n",
              "      <th>...</th>\n",
              "      <th>FB</th>\n",
              "      <th>FTI</th>\n",
              "      <th>ITH</th>\n",
              "      <th>PGT</th>\n",
              "      <th>TSHDSBRSGF</th>\n",
              "      <th>SD3</th>\n",
              "      <th>RHX</th>\n",
              "      <th>RHN</th>\n",
              "      <th>RVG</th>\n",
              "      <th>WTE</th>\n",
              "    </tr>\n",
              "  </thead>\n",
              "  <tbody>\n",
              "    <tr>\n",
              "      <th>0</th>\n",
              "      <td>10001</td>\n",
              "      <td>01/07/1942</td>\n",
              "      <td>1.016</td>\n",
              "      <td>NaN</td>\n",
              "      <td>25.555556</td>\n",
              "      <td>22.222222</td>\n",
              "      <td>23.888889</td>\n",
              "      <td>0.0</td>\n",
              "      <td>NaN</td>\n",
              "      <td>42.0</td>\n",
              "      <td>...</td>\n",
              "      <td>NaN</td>\n",
              "      <td>NaN</td>\n",
              "      <td>NaN</td>\n",
              "      <td>NaN</td>\n",
              "      <td>NaN</td>\n",
              "      <td>NaN</td>\n",
              "      <td>NaN</td>\n",
              "      <td>NaN</td>\n",
              "      <td>NaN</td>\n",
              "      <td>NaN</td>\n",
              "    </tr>\n",
              "    <tr>\n",
              "      <th>1</th>\n",
              "      <td>10001</td>\n",
              "      <td>02/07/1942</td>\n",
              "      <td>0</td>\n",
              "      <td>NaN</td>\n",
              "      <td>28.888889</td>\n",
              "      <td>21.666667</td>\n",
              "      <td>25.555556</td>\n",
              "      <td>0.0</td>\n",
              "      <td>NaN</td>\n",
              "      <td>42.0</td>\n",
              "      <td>...</td>\n",
              "      <td>NaN</td>\n",
              "      <td>NaN</td>\n",
              "      <td>NaN</td>\n",
              "      <td>NaN</td>\n",
              "      <td>NaN</td>\n",
              "      <td>NaN</td>\n",
              "      <td>NaN</td>\n",
              "      <td>NaN</td>\n",
              "      <td>NaN</td>\n",
              "      <td>NaN</td>\n",
              "    </tr>\n",
              "    <tr>\n",
              "      <th>2</th>\n",
              "      <td>10001</td>\n",
              "      <td>03/07/1942</td>\n",
              "      <td>2.54</td>\n",
              "      <td>NaN</td>\n",
              "      <td>26.111111</td>\n",
              "      <td>22.222222</td>\n",
              "      <td>24.444444</td>\n",
              "      <td>0.0</td>\n",
              "      <td>NaN</td>\n",
              "      <td>42.0</td>\n",
              "      <td>...</td>\n",
              "      <td>NaN</td>\n",
              "      <td>NaN</td>\n",
              "      <td>NaN</td>\n",
              "      <td>NaN</td>\n",
              "      <td>NaN</td>\n",
              "      <td>NaN</td>\n",
              "      <td>NaN</td>\n",
              "      <td>NaN</td>\n",
              "      <td>NaN</td>\n",
              "      <td>NaN</td>\n",
              "    </tr>\n",
              "    <tr>\n",
              "      <th>3</th>\n",
              "      <td>10001</td>\n",
              "      <td>04/07/1942</td>\n",
              "      <td>2.54</td>\n",
              "      <td>NaN</td>\n",
              "      <td>26.666667</td>\n",
              "      <td>22.222222</td>\n",
              "      <td>24.444444</td>\n",
              "      <td>0.0</td>\n",
              "      <td>NaN</td>\n",
              "      <td>42.0</td>\n",
              "      <td>...</td>\n",
              "      <td>NaN</td>\n",
              "      <td>NaN</td>\n",
              "      <td>NaN</td>\n",
              "      <td>NaN</td>\n",
              "      <td>NaN</td>\n",
              "      <td>NaN</td>\n",
              "      <td>NaN</td>\n",
              "      <td>NaN</td>\n",
              "      <td>NaN</td>\n",
              "      <td>NaN</td>\n",
              "    </tr>\n",
              "    <tr>\n",
              "      <th>4</th>\n",
              "      <td>10001</td>\n",
              "      <td>05/07/1942</td>\n",
              "      <td>0</td>\n",
              "      <td>NaN</td>\n",
              "      <td>26.666667</td>\n",
              "      <td>21.666667</td>\n",
              "      <td>24.444444</td>\n",
              "      <td>0.0</td>\n",
              "      <td>NaN</td>\n",
              "      <td>42.0</td>\n",
              "      <td>...</td>\n",
              "      <td>NaN</td>\n",
              "      <td>NaN</td>\n",
              "      <td>NaN</td>\n",
              "      <td>NaN</td>\n",
              "      <td>NaN</td>\n",
              "      <td>NaN</td>\n",
              "      <td>NaN</td>\n",
              "      <td>NaN</td>\n",
              "      <td>NaN</td>\n",
              "      <td>NaN</td>\n",
              "    </tr>\n",
              "    <tr>\n",
              "      <th>...</th>\n",
              "      <td>...</td>\n",
              "      <td>...</td>\n",
              "      <td>...</td>\n",
              "      <td>...</td>\n",
              "      <td>...</td>\n",
              "      <td>...</td>\n",
              "      <td>...</td>\n",
              "      <td>...</td>\n",
              "      <td>...</td>\n",
              "      <td>...</td>\n",
              "      <td>...</td>\n",
              "      <td>...</td>\n",
              "      <td>...</td>\n",
              "      <td>...</td>\n",
              "      <td>...</td>\n",
              "      <td>...</td>\n",
              "      <td>...</td>\n",
              "      <td>...</td>\n",
              "      <td>...</td>\n",
              "      <td>...</td>\n",
              "      <td>...</td>\n",
              "    </tr>\n",
              "    <tr>\n",
              "      <th>32547</th>\n",
              "      <td>11902</td>\n",
              "      <td>11/03/1945</td>\n",
              "      <td>0</td>\n",
              "      <td>NaN</td>\n",
              "      <td>33.888889</td>\n",
              "      <td>15.555556</td>\n",
              "      <td>24.444444</td>\n",
              "      <td>0.0</td>\n",
              "      <td>NaN</td>\n",
              "      <td>45.0</td>\n",
              "      <td>...</td>\n",
              "      <td>NaN</td>\n",
              "      <td>NaN</td>\n",
              "      <td>NaN</td>\n",
              "      <td>NaN</td>\n",
              "      <td>NaN</td>\n",
              "      <td>NaN</td>\n",
              "      <td>NaN</td>\n",
              "      <td>NaN</td>\n",
              "      <td>NaN</td>\n",
              "      <td>NaN</td>\n",
              "    </tr>\n",
              "    <tr>\n",
              "      <th>32548</th>\n",
              "      <td>11902</td>\n",
              "      <td>12/03/1945</td>\n",
              "      <td>0</td>\n",
              "      <td>NaN</td>\n",
              "      <td>33.333333</td>\n",
              "      <td>16.666667</td>\n",
              "      <td>25.000000</td>\n",
              "      <td>0.0</td>\n",
              "      <td>NaN</td>\n",
              "      <td>45.0</td>\n",
              "      <td>...</td>\n",
              "      <td>NaN</td>\n",
              "      <td>NaN</td>\n",
              "      <td>NaN</td>\n",
              "      <td>NaN</td>\n",
              "      <td>NaN</td>\n",
              "      <td>NaN</td>\n",
              "      <td>NaN</td>\n",
              "      <td>NaN</td>\n",
              "      <td>NaN</td>\n",
              "      <td>NaN</td>\n",
              "    </tr>\n",
              "    <tr>\n",
              "      <th>32549</th>\n",
              "      <td>11902</td>\n",
              "      <td>13/03/1945</td>\n",
              "      <td>0</td>\n",
              "      <td>NaN</td>\n",
              "      <td>33.333333</td>\n",
              "      <td>18.333333</td>\n",
              "      <td>25.555556</td>\n",
              "      <td>0.0</td>\n",
              "      <td>NaN</td>\n",
              "      <td>45.0</td>\n",
              "      <td>...</td>\n",
              "      <td>NaN</td>\n",
              "      <td>NaN</td>\n",
              "      <td>NaN</td>\n",
              "      <td>NaN</td>\n",
              "      <td>NaN</td>\n",
              "      <td>NaN</td>\n",
              "      <td>NaN</td>\n",
              "      <td>NaN</td>\n",
              "      <td>NaN</td>\n",
              "      <td>NaN</td>\n",
              "    </tr>\n",
              "    <tr>\n",
              "      <th>32550</th>\n",
              "      <td>11902</td>\n",
              "      <td>14/03/1945</td>\n",
              "      <td>0</td>\n",
              "      <td>NaN</td>\n",
              "      <td>33.333333</td>\n",
              "      <td>19.444444</td>\n",
              "      <td>26.666667</td>\n",
              "      <td>0.0</td>\n",
              "      <td>NaN</td>\n",
              "      <td>45.0</td>\n",
              "      <td>...</td>\n",
              "      <td>NaN</td>\n",
              "      <td>NaN</td>\n",
              "      <td>NaN</td>\n",
              "      <td>NaN</td>\n",
              "      <td>NaN</td>\n",
              "      <td>NaN</td>\n",
              "      <td>NaN</td>\n",
              "      <td>NaN</td>\n",
              "      <td>NaN</td>\n",
              "      <td>NaN</td>\n",
              "    </tr>\n",
              "    <tr>\n",
              "      <th>32551</th>\n",
              "      <td>11902</td>\n",
              "      <td>15/03/1945</td>\n",
              "      <td>0</td>\n",
              "      <td>NaN</td>\n",
              "      <td>33.888889</td>\n",
              "      <td>1.000000</td>\n",
              "      <td>NaN</td>\n",
              "      <td>NaN</td>\n",
              "      <td>NaN</td>\n",
              "      <td>NaN</td>\n",
              "      <td>...</td>\n",
              "      <td>NaN</td>\n",
              "      <td>NaN</td>\n",
              "      <td>NaN</td>\n",
              "      <td>NaN</td>\n",
              "      <td>NaN</td>\n",
              "      <td>NaN</td>\n",
              "      <td>NaN</td>\n",
              "      <td>NaN</td>\n",
              "      <td>NaN</td>\n",
              "      <td>NaN</td>\n",
              "    </tr>\n",
              "  </tbody>\n",
              "</table>\n",
              "<p>32552 rows × 31 columns</p>\n",
              "</div>\n",
              "      <button class=\"colab-df-convert\" onclick=\"convertToInteractive('df-70cd0622-f30f-402d-8e61-2faefbbdc0d0')\"\n",
              "              title=\"Convert this dataframe to an interactive table.\"\n",
              "              style=\"display:none;\">\n",
              "        \n",
              "  <svg xmlns=\"http://www.w3.org/2000/svg\" height=\"24px\"viewBox=\"0 0 24 24\"\n",
              "       width=\"24px\">\n",
              "    <path d=\"M0 0h24v24H0V0z\" fill=\"none\"/>\n",
              "    <path d=\"M18.56 5.44l.94 2.06.94-2.06 2.06-.94-2.06-.94-.94-2.06-.94 2.06-2.06.94zm-11 1L8.5 8.5l.94-2.06 2.06-.94-2.06-.94L8.5 2.5l-.94 2.06-2.06.94zm10 10l.94 2.06.94-2.06 2.06-.94-2.06-.94-.94-2.06-.94 2.06-2.06.94z\"/><path d=\"M17.41 7.96l-1.37-1.37c-.4-.4-.92-.59-1.43-.59-.52 0-1.04.2-1.43.59L10.3 9.45l-7.72 7.72c-.78.78-.78 2.05 0 2.83L4 21.41c.39.39.9.59 1.41.59.51 0 1.02-.2 1.41-.59l7.78-7.78 2.81-2.81c.8-.78.8-2.07 0-2.86zM5.41 20L4 18.59l7.72-7.72 1.47 1.35L5.41 20z\"/>\n",
              "  </svg>\n",
              "      </button>\n",
              "      \n",
              "  <style>\n",
              "    .colab-df-container {\n",
              "      display:flex;\n",
              "      flex-wrap:wrap;\n",
              "      gap: 12px;\n",
              "    }\n",
              "\n",
              "    .colab-df-convert {\n",
              "      background-color: #E8F0FE;\n",
              "      border: none;\n",
              "      border-radius: 50%;\n",
              "      cursor: pointer;\n",
              "      display: none;\n",
              "      fill: #1967D2;\n",
              "      height: 32px;\n",
              "      padding: 0 0 0 0;\n",
              "      width: 32px;\n",
              "    }\n",
              "\n",
              "    .colab-df-convert:hover {\n",
              "      background-color: #E2EBFA;\n",
              "      box-shadow: 0px 1px 2px rgba(60, 64, 67, 0.3), 0px 1px 3px 1px rgba(60, 64, 67, 0.15);\n",
              "      fill: #174EA6;\n",
              "    }\n",
              "\n",
              "    [theme=dark] .colab-df-convert {\n",
              "      background-color: #3B4455;\n",
              "      fill: #D2E3FC;\n",
              "    }\n",
              "\n",
              "    [theme=dark] .colab-df-convert:hover {\n",
              "      background-color: #434B5C;\n",
              "      box-shadow: 0px 1px 3px 1px rgba(0, 0, 0, 0.15);\n",
              "      filter: drop-shadow(0px 1px 2px rgba(0, 0, 0, 0.3));\n",
              "      fill: #FFFFFF;\n",
              "    }\n",
              "  </style>\n",
              "\n",
              "      <script>\n",
              "        const buttonEl =\n",
              "          document.querySelector('#df-70cd0622-f30f-402d-8e61-2faefbbdc0d0 button.colab-df-convert');\n",
              "        buttonEl.style.display =\n",
              "          google.colab.kernel.accessAllowed ? 'block' : 'none';\n",
              "\n",
              "        async function convertToInteractive(key) {\n",
              "          const element = document.querySelector('#df-70cd0622-f30f-402d-8e61-2faefbbdc0d0');\n",
              "          const dataTable =\n",
              "            await google.colab.kernel.invokeFunction('convertToInteractive',\n",
              "                                                     [key], {});\n",
              "          if (!dataTable) return;\n",
              "\n",
              "          const docLinkHtml = 'Like what you see? Visit the ' +\n",
              "            '<a target=\"_blank\" href=https://colab.research.google.com/notebooks/data_table.ipynb>data table notebook</a>'\n",
              "            + ' to learn more about interactive tables.';\n",
              "          element.innerHTML = '';\n",
              "          dataTable['output_type'] = 'display_data';\n",
              "          await google.colab.output.renderOutput(dataTable, element);\n",
              "          const docLink = document.createElement('div');\n",
              "          docLink.innerHTML = docLinkHtml;\n",
              "          element.appendChild(docLink);\n",
              "        }\n",
              "      </script>\n",
              "    </div>\n",
              "  </div>\n",
              "  "
            ]
          },
          "metadata": {},
          "execution_count": 2
        }
      ],
      "source": [
        "# Step 1: Import Python Packages needed for task, as their shorthand component.\n",
        "# NumPy is needed as we will be working with matrices, pandas will also be \n",
        "# needed for our dataframe and lastly matplotlib to allow us to plot our data:\n",
        "\n",
        "import matplotlib.pyplot as plt\n",
        "import numpy as np\n",
        "import pandas as pd\n",
        "from sklearn.model_selection import train_test_split \n",
        "from sklearn.linear_model import LinearRegression\n",
        "\n",
        "# Step 2: Load Data\n",
        "\n",
        "dataset = pd.read_csv('Summary of Weather WW2.csv')\n",
        "\n",
        "dataset\n",
        "\n",
        "\n",
        "\n",
        "\n"
      ]
    },
    {
      "cell_type": "code",
      "source": [
        "\n",
        "# Step 3: Plot the data\n",
        "plt.scatter(dataset['MaxTemp'], dataset['MinTemp'])\n",
        "plt.title('Maximum Temperature vs Minimum Temperature')  \n",
        "plt.xlabel('Maximum Temperature')  \n",
        "plt.ylabel('Minimum Temperature')  \n",
        "plt.show()"
      ],
      "metadata": {
        "colab": {
          "base_uri": "https://localhost:8080/",
          "height": 295
        },
        "id": "yxa-FoOXTvQ3",
        "outputId": "65d65f01-a609-4804-c7d5-df8c8ce00d96"
      },
      "execution_count": null,
      "outputs": [
        {
          "output_type": "display_data",
          "data": {
            "text/plain": [
              "<Figure size 432x288 with 1 Axes>"
            ],
            "image/png": "[encoded data removed]"
          },
          "metadata": {
            "needs_background": "light"
          }
        }
      ]
    },
    {
      "cell_type": "markdown",
      "source": [
        "By plotting the data I can assess whether there is a  relationship between minimum temperature and maximum temperature.\n",
        "\n",
        "The code, plt.scatter creates a scatter plot, and takes in data for x and y, each of the corresponding indices form a point on the plot.\n",
        "\n",
        "I am using the ‘MaxTemp’ and ‘MinTemp’ columns from the data for this\n",
        "plt.title, plt.xlabel and plt.ylabel.\n",
        "\n",
        "The code, plt.show  outputs the plot I have created.\n",
        "\n",
        "The resultant graph above shows that there is a positive correlation between the minimum and maximum temperature, but also some outliers which means we shouldn’t expect to get 100% accuracy with a line of best fit."
      ],
      "metadata": {
        "id": "bzOAtCDcRrFA"
      }
    },
    {
      "cell_type": "code",
      "source": [
        "# Step 4: Getting the dependent and independent variables and \n",
        "# reshaping them so that I can use test_train_split.\n",
        "X = dataset['MaxTemp'].values.reshape(-1,1)\n",
        "y = dataset['MinTemp'].values.reshape(-1,1)\n",
        "\n"
      ],
      "metadata": {
        "id": "YJ4I1ormUQep"
      },
      "execution_count": null,
      "outputs": []
    },
    {
      "cell_type": "code",
      "source": [
        "X"
      ],
      "metadata": {
        "colab": {
          "base_uri": "https://localhost:8080/"
        },
        "id": "R_mPT3EObJ5l",
        "outputId": "0eb9e682-5baa-4493-ff02-fe421dca4f90"
      },
      "execution_count": null,
      "outputs": [
        {
          "output_type": "execute_result",
          "data": {
            "text/plain": [
              "array([[25.55555556],\n",
              "       [28.88888889],\n",
              "       [26.11111111],\n",
              "       ...,\n",
              "       [28.33333333],\n",
              "       [28.33333333],\n",
              "       [29.44444444]])"
            ]
          },
          "metadata": {},
          "execution_count": 28
        }
      ]
    },
    {
      "cell_type": "code",
      "source": [
        "y"
      ],
      "metadata": {
        "colab": {
          "base_uri": "https://localhost:8080/"
        },
        "id": "MdhGcPWrbS4T",
        "outputId": "c0d42fcd-6e53-4bde-d6be-4f35a778719f"
      },
      "execution_count": null,
      "outputs": [
        {
          "output_type": "execute_result",
          "data": {
            "text/plain": [
              "array([[22.22222222],\n",
              "       [21.66666667],\n",
              "       [22.22222222],\n",
              "       ...,\n",
              "       [18.33333333],\n",
              "       [18.33333333],\n",
              "       [17.22222222]])"
            ]
          },
          "metadata": {},
          "execution_count": 29
        }
      ]
    },
    {
      "cell_type": "code",
      "source": [
        "# Step 5: Splitting data into training sets and testing sets\n",
        "X_train, X_test, y_train, y_test = train_test_split(X, y)\n",
        "\n",
        "\n"
      ],
      "metadata": {
        "id": "BUcQJRssbWNt"
      },
      "execution_count": null,
      "outputs": []
    },
    {
      "cell_type": "code",
      "source": [
        "X_train"
      ],
      "metadata": {
        "colab": {
          "base_uri": "https://localhost:8080/"
        },
        "id": "MYzwRtyVb1Jp",
        "outputId": "2976ddd7-994d-47cb-b0b1-dd538d978893"
      },
      "execution_count": null,
      "outputs": [
        {
          "output_type": "execute_result",
          "data": {
            "text/plain": [
              "array([[36.11111111],\n",
              "       [30.        ],\n",
              "       [26.11111111],\n",
              "       ...,\n",
              "       [33.33333333],\n",
              "       [30.        ],\n",
              "       [31.66666667]])"
            ]
          },
          "metadata": {},
          "execution_count": 31
        }
      ]
    },
    {
      "cell_type": "code",
      "source": [
        "y_test"
      ],
      "metadata": {
        "colab": {
          "base_uri": "https://localhost:8080/"
        },
        "id": "-eAnHguSb8hg",
        "outputId": "4cc14d2d-fe20-4ad9-bced-869ccd4a0530"
      },
      "execution_count": null,
      "outputs": [
        {
          "output_type": "execute_result",
          "data": {
            "text/plain": [
              "array([[ 8.88888889],\n",
              "       [22.77777778],\n",
              "       [20.55555556],\n",
              "       ...,\n",
              "       [10.55555556],\n",
              "       [27.22222222],\n",
              "       [23.33333333]])"
            ]
          },
          "metadata": {},
          "execution_count": 32
        }
      ]
    },
    {
      "cell_type": "code",
      "source": [
        "# Step 6: Training our Model\n",
        "model = LinearRegression().fit(X_train, y_train)\n"
      ],
      "metadata": {
        "id": "W_GDm8xGcAaE"
      },
      "execution_count": null,
      "outputs": []
    },
    {
      "cell_type": "code",
      "source": [
        "X_train, y_train"
      ],
      "metadata": {
        "colab": {
          "base_uri": "https://localhost:8080/"
        },
        "id": "e81bdeOkcj10",
        "outputId": "2263f204-e77f-4d49-cf66-96e1f9e1f8fc"
      },
      "execution_count": null,
      "outputs": [
        {
          "output_type": "execute_result",
          "data": {
            "text/plain": [
              "(array([[36.11111111],\n",
              "        [30.        ],\n",
              "        [26.11111111],\n",
              "        ...,\n",
              "        [33.33333333],\n",
              "        [30.        ],\n",
              "        [31.66666667]]), array([[25.55555556],\n",
              "        [21.66666667],\n",
              "        [18.88888889],\n",
              "        ...,\n",
              "        [25.        ],\n",
              "        [25.55555556],\n",
              "        [24.44444444]]))"
            ]
          },
          "metadata": {},
          "execution_count": 38
        }
      ]
    },
    {
      "cell_type": "code",
      "source": [
        "\n",
        "# Step 7: Seeing how accurate our model is, 1 is the best possible score, \n",
        "#so 0.77 is a good model.\n",
        "\n",
        "print(\"Training set score:\", model.score(X_train, y_train))\n",
        "print(\"Test set score:\", model.score(X_test, y_test))\n",
        "\n"
      ],
      "metadata": {
        "colab": {
          "base_uri": "https://localhost:8080/"
        },
        "id": "-c7NF8dGcJxG",
        "outputId": "ad25351b-e78c-40b8-e57d-f1233b5d0aa2"
      },
      "execution_count": null,
      "outputs": [
        {
          "output_type": "stream",
          "name": "stdout",
          "text": [
            "Training set score: 0.7717833565583412\n",
            "Test set score: 0.770855401388974\n"
          ]
        }
      ]
    },
    {
      "cell_type": "code",
      "source": [
        "# Step 8: Making a prediction for our test data.\n",
        "y_prediction = model.predict(X_test)"
      ],
      "metadata": {
        "id": "BqE7vGGMcQvR"
      },
      "execution_count": null,
      "outputs": []
    },
    {
      "cell_type": "code",
      "source": [
        "y_prediction "
      ],
      "metadata": {
        "colab": {
          "base_uri": "https://localhost:8080/"
        },
        "id": "VATz2YMbcZ5g",
        "outputId": "57ec4257-e19a-4de9-abcb-180e6d710701"
      },
      "execution_count": null,
      "outputs": [
        {
          "output_type": "execute_result",
          "data": {
            "text/plain": [
              "array([[12.80666042],\n",
              "       [20.27665736],\n",
              "       [19.34290774],\n",
              "       ...,\n",
              "       [14.67415965],\n",
              "       [23.54478102],\n",
              "       [25.41228025]])"
            ]
          },
          "metadata": {},
          "execution_count": 36
        }
      ]
    },
    {
      "cell_type": "markdown",
      "source": [
        "Now the model has been fitted to training data, I can assess how effective it is in step 7 above.\n",
        "\n",
        "The score function returns a score between -1 and 1. \n",
        "\n",
        "A score of 1 would mean the data fits the prediction given by the model exactly. \n",
        "\n",
        "A score of 0 would be the same as a model that always predicts the mean.\n",
        "\n",
        "The Score takes in the data given in the first parameter, uses the model and compares the prediction to the values given in the second parameter.\n",
        "\n",
        "This should return  a score of about 0.77 for both, and this shows the model makes a very good prediction for the minimum temperature given the maximum temperature.\n",
        "\n",
        "In step 8, I am using the model to get our predicted y values for the test data. I will use this to plot our line of best fit.\n"
      ],
      "metadata": {
        "id": "BvVG0vpOYLuL"
      }
    },
    {
      "cell_type": "code",
      "source": [
        "# Step 9: Plotting the results!\n",
        "plt.scatter(X_test, y_test)\n",
        "plt.plot(X_test, y_prediction, color='r')\n",
        "plt.title('Maximum Temperature vs Minimum Temperature')  \n",
        "plt.xlabel('Maximum Temperature')  \n",
        "plt.ylabel('Minimum Temperature')  \n",
        "plt.show()\n"
      ],
      "metadata": {
        "colab": {
          "base_uri": "https://localhost:8080/",
          "height": 295
        },
        "id": "nXD3XIfkYE4s",
        "outputId": "d2538e04-0212-4d00-bdb5-24f82bd213ae"
      },
      "execution_count": null,
      "outputs": [
        {
          "output_type": "display_data",
          "data": {
            "text/plain": [
              "<Figure size 432x288 with 1 Axes>"
            ],
            "image/png": "[encoded data removed]"
          },
          "metadata": {
            "needs_background": "light"
          }
        }
      ]
    },
    {
      "cell_type": "markdown",
      "source": [
        "Finally, I ask the model to plot a line of best fit. \n",
        "First I make a scatter plot with our test data. This will have approximately 25% less points than the original plot, however the trend is still the same.\n",
        "Then, plot the line of our prediction, this is done with the plot function.\n",
        "Lastly, label the plot and show it, giving us the output.\n",
        "As we can see, the line follows the trend of the data. When a maximum temperature of 50 is reached, a minimum temperature of 35 is likely. There is a positive correlation between minimum and maximum temperatures within the given dataset.\n"
      ],
      "metadata": {
        "id": "1B8ibiGXdIPl"
      }
    }
  ]
}